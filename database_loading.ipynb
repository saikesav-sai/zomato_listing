{
 "cells": [
  {
   "cell_type": "markdown",
   "metadata": {},
   "source": [
    "## Database connection and inserting json files into mongo DB \n",
    "* In my local mongo DB __restaurants__ is the Database name and details is the collection name\n",
    "* pymongo to access the mongo connection and inserting data\n",
    "* used __json__ to parse json object into arrays\n",
    "\n",
    "* check __log__ book for better understanding of loop"
   ]
  },
  {
   "cell_type": "code",
   "execution_count": 6,
   "metadata": {},
   "outputs": [],
   "source": [
    "from fileinput import filename\n",
    "import os\n",
    "import json\n",
    "from pymongo import MongoClient"
   ]
  },
  {
   "cell_type": "code",
   "execution_count": 7,
   "metadata": {},
   "outputs": [
    {
     "name": "stdout",
     "output_type": "stream",
     "text": [
      "Data loaded successfully!\n"
     ]
    }
   ],
   "source": [
    "# Connect to MongoDB\n",
    "client = MongoClient('mongodb://localhost:27017/')\n",
    "db = client['restaurants']\n",
    "collection = db['details']\n",
    "\n",
    "# Path to the directory containing your JSON files\n",
    "dataset_dir = 'dataset'\n",
    "\n",
    "# Load each JSON file into the collection\n",
    "for filename in os.listdir(dataset_dir):\n",
    "    if filename.endswith('.json'):\n",
    "        with open(os.path.join(dataset_dir, filename), 'r') as file:\n",
    "            data = json.load(file)\n",
    "              # Accessing the restaurants list\n",
    "            for records in data:\n",
    "                if 'restaurants' in records:\n",
    "                    restaurants = records['restaurants']\n",
    "                    for restaurant in restaurants:\n",
    "                        collection.insert_one(restaurant['restaurant'])  # Insert the restaurant data\n",
    "\n",
    "print(\"Data loaded successfully!\")\n",
    "\n"
   ]
  }
 ],
 "metadata": {
  "kernelspec": {
   "display_name": "research",
   "language": "python",
   "name": "research"
  },
  "language_info": {
   "codemirror_mode": {
    "name": "ipython",
    "version": 3
   },
   "file_extension": ".py",
   "mimetype": "text/x-python",
   "name": "python",
   "nbconvert_exporter": "python",
   "pygments_lexer": "ipython3",
   "version": "3.10.6"
  }
 },
 "nbformat": 4,
 "nbformat_minor": 2
}
